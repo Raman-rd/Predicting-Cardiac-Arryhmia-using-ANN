{
 "cells": [
  {
   "cell_type": "code",
   "execution_count": 1,
   "metadata": {},
   "outputs": [],
   "source": [
    "### Import libraries\n",
    "import pandas as pd\n",
    "import numpy as np\n",
    "import seaborn as sns\n",
    "import matplotlib.pyplot as plt\n",
    "%matplotlib inline"
   ]
  },
  {
   "cell_type": "code",
   "execution_count": 2,
   "metadata": {},
   "outputs": [],
   "source": [
    "### download the dataset\n",
    "df = pd.read_csv(\"https://archive.ics.uci.edu/ml/machine-learning-databases/arrhythmia/arrhythmia.data\")"
   ]
  },
  {
   "cell_type": "code",
   "execution_count": 3,
   "metadata": {},
   "outputs": [
    {
     "data": {
      "text/html": [
       "<div>\n",
       "<style scoped>\n",
       "    .dataframe tbody tr th:only-of-type {\n",
       "        vertical-align: middle;\n",
       "    }\n",
       "\n",
       "    .dataframe tbody tr th {\n",
       "        vertical-align: top;\n",
       "    }\n",
       "\n",
       "    .dataframe thead th {\n",
       "        text-align: right;\n",
       "    }\n",
       "</style>\n",
       "<table border=\"1\" class=\"dataframe\">\n",
       "  <thead>\n",
       "    <tr style=\"text-align: right;\">\n",
       "      <th></th>\n",
       "      <th>75</th>\n",
       "      <th>0</th>\n",
       "      <th>190</th>\n",
       "      <th>80</th>\n",
       "      <th>91</th>\n",
       "      <th>193</th>\n",
       "      <th>371</th>\n",
       "      <th>174</th>\n",
       "      <th>121</th>\n",
       "      <th>-16</th>\n",
       "      <th>...</th>\n",
       "      <th>0.0.38</th>\n",
       "      <th>9.0</th>\n",
       "      <th>-0.9</th>\n",
       "      <th>0.0.39</th>\n",
       "      <th>0.0.40</th>\n",
       "      <th>0.9.3</th>\n",
       "      <th>2.9.1</th>\n",
       "      <th>23.3</th>\n",
       "      <th>49.4</th>\n",
       "      <th>8</th>\n",
       "    </tr>\n",
       "  </thead>\n",
       "  <tbody>\n",
       "    <tr>\n",
       "      <th>0</th>\n",
       "      <td>56</td>\n",
       "      <td>1</td>\n",
       "      <td>165</td>\n",
       "      <td>64</td>\n",
       "      <td>81</td>\n",
       "      <td>174</td>\n",
       "      <td>401</td>\n",
       "      <td>149</td>\n",
       "      <td>39</td>\n",
       "      <td>25</td>\n",
       "      <td>...</td>\n",
       "      <td>0.0</td>\n",
       "      <td>8.5</td>\n",
       "      <td>0.0</td>\n",
       "      <td>0.0</td>\n",
       "      <td>0.0</td>\n",
       "      <td>0.2</td>\n",
       "      <td>2.1</td>\n",
       "      <td>20.4</td>\n",
       "      <td>38.8</td>\n",
       "      <td>6</td>\n",
       "    </tr>\n",
       "    <tr>\n",
       "      <th>1</th>\n",
       "      <td>54</td>\n",
       "      <td>0</td>\n",
       "      <td>172</td>\n",
       "      <td>95</td>\n",
       "      <td>138</td>\n",
       "      <td>163</td>\n",
       "      <td>386</td>\n",
       "      <td>185</td>\n",
       "      <td>102</td>\n",
       "      <td>96</td>\n",
       "      <td>...</td>\n",
       "      <td>0.0</td>\n",
       "      <td>9.5</td>\n",
       "      <td>-2.4</td>\n",
       "      <td>0.0</td>\n",
       "      <td>0.0</td>\n",
       "      <td>0.3</td>\n",
       "      <td>3.4</td>\n",
       "      <td>12.3</td>\n",
       "      <td>49.0</td>\n",
       "      <td>10</td>\n",
       "    </tr>\n",
       "    <tr>\n",
       "      <th>2</th>\n",
       "      <td>55</td>\n",
       "      <td>0</td>\n",
       "      <td>175</td>\n",
       "      <td>94</td>\n",
       "      <td>100</td>\n",
       "      <td>202</td>\n",
       "      <td>380</td>\n",
       "      <td>179</td>\n",
       "      <td>143</td>\n",
       "      <td>28</td>\n",
       "      <td>...</td>\n",
       "      <td>0.0</td>\n",
       "      <td>12.2</td>\n",
       "      <td>-2.2</td>\n",
       "      <td>0.0</td>\n",
       "      <td>0.0</td>\n",
       "      <td>0.4</td>\n",
       "      <td>2.6</td>\n",
       "      <td>34.6</td>\n",
       "      <td>61.6</td>\n",
       "      <td>1</td>\n",
       "    </tr>\n",
       "    <tr>\n",
       "      <th>3</th>\n",
       "      <td>75</td>\n",
       "      <td>0</td>\n",
       "      <td>190</td>\n",
       "      <td>80</td>\n",
       "      <td>88</td>\n",
       "      <td>181</td>\n",
       "      <td>360</td>\n",
       "      <td>177</td>\n",
       "      <td>103</td>\n",
       "      <td>-16</td>\n",
       "      <td>...</td>\n",
       "      <td>0.0</td>\n",
       "      <td>13.1</td>\n",
       "      <td>-3.6</td>\n",
       "      <td>0.0</td>\n",
       "      <td>0.0</td>\n",
       "      <td>-0.1</td>\n",
       "      <td>3.9</td>\n",
       "      <td>25.4</td>\n",
       "      <td>62.8</td>\n",
       "      <td>7</td>\n",
       "    </tr>\n",
       "    <tr>\n",
       "      <th>4</th>\n",
       "      <td>13</td>\n",
       "      <td>0</td>\n",
       "      <td>169</td>\n",
       "      <td>51</td>\n",
       "      <td>100</td>\n",
       "      <td>167</td>\n",
       "      <td>321</td>\n",
       "      <td>174</td>\n",
       "      <td>91</td>\n",
       "      <td>107</td>\n",
       "      <td>...</td>\n",
       "      <td>-0.6</td>\n",
       "      <td>12.2</td>\n",
       "      <td>-2.8</td>\n",
       "      <td>0.0</td>\n",
       "      <td>0.0</td>\n",
       "      <td>0.9</td>\n",
       "      <td>2.2</td>\n",
       "      <td>13.5</td>\n",
       "      <td>31.1</td>\n",
       "      <td>14</td>\n",
       "    </tr>\n",
       "  </tbody>\n",
       "</table>\n",
       "<p>5 rows × 280 columns</p>\n",
       "</div>"
      ],
      "text/plain": [
       "   75  0  190  80   91  193  371  174  121  -16  ... 0.0.38   9.0 -0.9 0.0.39  \\\n",
       "0  56  1  165  64   81  174  401  149   39   25  ...    0.0   8.5  0.0    0.0   \n",
       "1  54  0  172  95  138  163  386  185  102   96  ...    0.0   9.5 -2.4    0.0   \n",
       "2  55  0  175  94  100  202  380  179  143   28  ...    0.0  12.2 -2.2    0.0   \n",
       "3  75  0  190  80   88  181  360  177  103  -16  ...    0.0  13.1 -3.6    0.0   \n",
       "4  13  0  169  51  100  167  321  174   91  107  ...   -0.6  12.2 -2.8    0.0   \n",
       "\n",
       "  0.0.40  0.9.3  2.9.1  23.3  49.4   8  \n",
       "0    0.0    0.2    2.1  20.4  38.8   6  \n",
       "1    0.0    0.3    3.4  12.3  49.0  10  \n",
       "2    0.0    0.4    2.6  34.6  61.6   1  \n",
       "3    0.0   -0.1    3.9  25.4  62.8   7  \n",
       "4    0.0    0.9    2.2  13.5  31.1  14  \n",
       "\n",
       "[5 rows x 280 columns]"
      ]
     },
     "execution_count": 3,
     "metadata": {},
     "output_type": "execute_result"
    }
   ],
   "source": [
    "### displaying the head\n",
    "df.head()"
   ]
  },
  {
   "cell_type": "code",
   "execution_count": 4,
   "metadata": {},
   "outputs": [],
   "source": [
    "## numbering columns\n",
    "df.columns = [i for i in range(len(df.columns))]"
   ]
  },
  {
   "cell_type": "code",
   "execution_count": 5,
   "metadata": {},
   "outputs": [
    {
     "data": {
      "text/html": [
       "<div>\n",
       "<style scoped>\n",
       "    .dataframe tbody tr th:only-of-type {\n",
       "        vertical-align: middle;\n",
       "    }\n",
       "\n",
       "    .dataframe tbody tr th {\n",
       "        vertical-align: top;\n",
       "    }\n",
       "\n",
       "    .dataframe thead th {\n",
       "        text-align: right;\n",
       "    }\n",
       "</style>\n",
       "<table border=\"1\" class=\"dataframe\">\n",
       "  <thead>\n",
       "    <tr style=\"text-align: right;\">\n",
       "      <th></th>\n",
       "      <th>0</th>\n",
       "      <th>1</th>\n",
       "      <th>2</th>\n",
       "      <th>3</th>\n",
       "      <th>4</th>\n",
       "      <th>5</th>\n",
       "      <th>6</th>\n",
       "      <th>7</th>\n",
       "      <th>8</th>\n",
       "      <th>9</th>\n",
       "      <th>...</th>\n",
       "      <th>270</th>\n",
       "      <th>271</th>\n",
       "      <th>272</th>\n",
       "      <th>273</th>\n",
       "      <th>274</th>\n",
       "      <th>275</th>\n",
       "      <th>276</th>\n",
       "      <th>277</th>\n",
       "      <th>278</th>\n",
       "      <th>279</th>\n",
       "    </tr>\n",
       "  </thead>\n",
       "  <tbody>\n",
       "    <tr>\n",
       "      <th>0</th>\n",
       "      <td>56</td>\n",
       "      <td>1</td>\n",
       "      <td>165</td>\n",
       "      <td>64</td>\n",
       "      <td>81</td>\n",
       "      <td>174</td>\n",
       "      <td>401</td>\n",
       "      <td>149</td>\n",
       "      <td>39</td>\n",
       "      <td>25</td>\n",
       "      <td>...</td>\n",
       "      <td>0.0</td>\n",
       "      <td>8.5</td>\n",
       "      <td>0.0</td>\n",
       "      <td>0.0</td>\n",
       "      <td>0.0</td>\n",
       "      <td>0.2</td>\n",
       "      <td>2.1</td>\n",
       "      <td>20.4</td>\n",
       "      <td>38.8</td>\n",
       "      <td>6</td>\n",
       "    </tr>\n",
       "    <tr>\n",
       "      <th>1</th>\n",
       "      <td>54</td>\n",
       "      <td>0</td>\n",
       "      <td>172</td>\n",
       "      <td>95</td>\n",
       "      <td>138</td>\n",
       "      <td>163</td>\n",
       "      <td>386</td>\n",
       "      <td>185</td>\n",
       "      <td>102</td>\n",
       "      <td>96</td>\n",
       "      <td>...</td>\n",
       "      <td>0.0</td>\n",
       "      <td>9.5</td>\n",
       "      <td>-2.4</td>\n",
       "      <td>0.0</td>\n",
       "      <td>0.0</td>\n",
       "      <td>0.3</td>\n",
       "      <td>3.4</td>\n",
       "      <td>12.3</td>\n",
       "      <td>49.0</td>\n",
       "      <td>10</td>\n",
       "    </tr>\n",
       "    <tr>\n",
       "      <th>2</th>\n",
       "      <td>55</td>\n",
       "      <td>0</td>\n",
       "      <td>175</td>\n",
       "      <td>94</td>\n",
       "      <td>100</td>\n",
       "      <td>202</td>\n",
       "      <td>380</td>\n",
       "      <td>179</td>\n",
       "      <td>143</td>\n",
       "      <td>28</td>\n",
       "      <td>...</td>\n",
       "      <td>0.0</td>\n",
       "      <td>12.2</td>\n",
       "      <td>-2.2</td>\n",
       "      <td>0.0</td>\n",
       "      <td>0.0</td>\n",
       "      <td>0.4</td>\n",
       "      <td>2.6</td>\n",
       "      <td>34.6</td>\n",
       "      <td>61.6</td>\n",
       "      <td>1</td>\n",
       "    </tr>\n",
       "    <tr>\n",
       "      <th>3</th>\n",
       "      <td>75</td>\n",
       "      <td>0</td>\n",
       "      <td>190</td>\n",
       "      <td>80</td>\n",
       "      <td>88</td>\n",
       "      <td>181</td>\n",
       "      <td>360</td>\n",
       "      <td>177</td>\n",
       "      <td>103</td>\n",
       "      <td>-16</td>\n",
       "      <td>...</td>\n",
       "      <td>0.0</td>\n",
       "      <td>13.1</td>\n",
       "      <td>-3.6</td>\n",
       "      <td>0.0</td>\n",
       "      <td>0.0</td>\n",
       "      <td>-0.1</td>\n",
       "      <td>3.9</td>\n",
       "      <td>25.4</td>\n",
       "      <td>62.8</td>\n",
       "      <td>7</td>\n",
       "    </tr>\n",
       "    <tr>\n",
       "      <th>4</th>\n",
       "      <td>13</td>\n",
       "      <td>0</td>\n",
       "      <td>169</td>\n",
       "      <td>51</td>\n",
       "      <td>100</td>\n",
       "      <td>167</td>\n",
       "      <td>321</td>\n",
       "      <td>174</td>\n",
       "      <td>91</td>\n",
       "      <td>107</td>\n",
       "      <td>...</td>\n",
       "      <td>-0.6</td>\n",
       "      <td>12.2</td>\n",
       "      <td>-2.8</td>\n",
       "      <td>0.0</td>\n",
       "      <td>0.0</td>\n",
       "      <td>0.9</td>\n",
       "      <td>2.2</td>\n",
       "      <td>13.5</td>\n",
       "      <td>31.1</td>\n",
       "      <td>14</td>\n",
       "    </tr>\n",
       "  </tbody>\n",
       "</table>\n",
       "<p>5 rows × 280 columns</p>\n",
       "</div>"
      ],
      "text/plain": [
       "   0    1    2    3    4    5    6    7    8    9    ...  270   271  272  273  \\\n",
       "0   56    1  165   64   81  174  401  149   39   25  ...  0.0   8.5  0.0  0.0   \n",
       "1   54    0  172   95  138  163  386  185  102   96  ...  0.0   9.5 -2.4  0.0   \n",
       "2   55    0  175   94  100  202  380  179  143   28  ...  0.0  12.2 -2.2  0.0   \n",
       "3   75    0  190   80   88  181  360  177  103  -16  ...  0.0  13.1 -3.6  0.0   \n",
       "4   13    0  169   51  100  167  321  174   91  107  ... -0.6  12.2 -2.8  0.0   \n",
       "\n",
       "   274  275  276   277   278  279  \n",
       "0  0.0  0.2  2.1  20.4  38.8    6  \n",
       "1  0.0  0.3  3.4  12.3  49.0   10  \n",
       "2  0.0  0.4  2.6  34.6  61.6    1  \n",
       "3  0.0 -0.1  3.9  25.4  62.8    7  \n",
       "4  0.0  0.9  2.2  13.5  31.1   14  \n",
       "\n",
       "[5 rows x 280 columns]"
      ]
     },
     "execution_count": 5,
     "metadata": {},
     "output_type": "execute_result"
    }
   ],
   "source": [
    "### display head\n",
    "df.head()"
   ]
  },
  {
   "cell_type": "markdown",
   "metadata": {},
   "source": [
    "***There are 279 columns in the dataframe, the target column is #279. We will try to do PCA***"
   ]
  },
  {
   "cell_type": "code",
   "execution_count": 6,
   "metadata": {},
   "outputs": [
    {
     "data": {
      "text/html": [
       "<div>\n",
       "<style scoped>\n",
       "    .dataframe tbody tr th:only-of-type {\n",
       "        vertical-align: middle;\n",
       "    }\n",
       "\n",
       "    .dataframe tbody tr th {\n",
       "        vertical-align: top;\n",
       "    }\n",
       "\n",
       "    .dataframe thead th {\n",
       "        text-align: right;\n",
       "    }\n",
       "</style>\n",
       "<table border=\"1\" class=\"dataframe\">\n",
       "  <thead>\n",
       "    <tr style=\"text-align: right;\">\n",
       "      <th></th>\n",
       "      <th>0</th>\n",
       "      <th>1</th>\n",
       "      <th>2</th>\n",
       "      <th>3</th>\n",
       "      <th>4</th>\n",
       "      <th>5</th>\n",
       "      <th>6</th>\n",
       "      <th>7</th>\n",
       "      <th>8</th>\n",
       "      <th>9</th>\n",
       "      <th>...</th>\n",
       "      <th>270</th>\n",
       "      <th>271</th>\n",
       "      <th>272</th>\n",
       "      <th>273</th>\n",
       "      <th>274</th>\n",
       "      <th>275</th>\n",
       "      <th>276</th>\n",
       "      <th>277</th>\n",
       "      <th>278</th>\n",
       "      <th>279</th>\n",
       "    </tr>\n",
       "  </thead>\n",
       "  <tbody>\n",
       "    <tr>\n",
       "      <th>count</th>\n",
       "      <td>451.000000</td>\n",
       "      <td>451.000000</td>\n",
       "      <td>451.000000</td>\n",
       "      <td>451.000000</td>\n",
       "      <td>451.000000</td>\n",
       "      <td>451.000000</td>\n",
       "      <td>451.000000</td>\n",
       "      <td>451.000000</td>\n",
       "      <td>451.000000</td>\n",
       "      <td>451.000000</td>\n",
       "      <td>...</td>\n",
       "      <td>451.000000</td>\n",
       "      <td>451.000000</td>\n",
       "      <td>451.000000</td>\n",
       "      <td>451.000000</td>\n",
       "      <td>451.0</td>\n",
       "      <td>451.000000</td>\n",
       "      <td>451.000000</td>\n",
       "      <td>451.000000</td>\n",
       "      <td>451.000000</td>\n",
       "      <td>451.000000</td>\n",
       "    </tr>\n",
       "    <tr>\n",
       "      <th>mean</th>\n",
       "      <td>46.407982</td>\n",
       "      <td>0.552106</td>\n",
       "      <td>166.135255</td>\n",
       "      <td>68.144124</td>\n",
       "      <td>88.915743</td>\n",
       "      <td>155.068736</td>\n",
       "      <td>367.199557</td>\n",
       "      <td>169.940133</td>\n",
       "      <td>89.935698</td>\n",
       "      <td>33.787140</td>\n",
       "      <td>...</td>\n",
       "      <td>-0.279601</td>\n",
       "      <td>9.048115</td>\n",
       "      <td>-1.458537</td>\n",
       "      <td>0.003991</td>\n",
       "      <td>0.0</td>\n",
       "      <td>0.513969</td>\n",
       "      <td>1.218625</td>\n",
       "      <td>19.317295</td>\n",
       "      <td>29.429047</td>\n",
       "      <td>3.871397</td>\n",
       "    </tr>\n",
       "    <tr>\n",
       "      <th>std</th>\n",
       "      <td>16.429846</td>\n",
       "      <td>0.497830</td>\n",
       "      <td>37.194646</td>\n",
       "      <td>16.599841</td>\n",
       "      <td>15.381143</td>\n",
       "      <td>44.856534</td>\n",
       "      <td>33.422017</td>\n",
       "      <td>35.672130</td>\n",
       "      <td>25.813912</td>\n",
       "      <td>45.421423</td>\n",
       "      <td>...</td>\n",
       "      <td>0.549328</td>\n",
       "      <td>3.476718</td>\n",
       "      <td>2.004481</td>\n",
       "      <td>0.050173</td>\n",
       "      <td>0.0</td>\n",
       "      <td>0.347441</td>\n",
       "      <td>1.425438</td>\n",
       "      <td>13.517617</td>\n",
       "      <td>18.490566</td>\n",
       "      <td>4.407706</td>\n",
       "    </tr>\n",
       "    <tr>\n",
       "      <th>min</th>\n",
       "      <td>0.000000</td>\n",
       "      <td>0.000000</td>\n",
       "      <td>105.000000</td>\n",
       "      <td>6.000000</td>\n",
       "      <td>55.000000</td>\n",
       "      <td>0.000000</td>\n",
       "      <td>232.000000</td>\n",
       "      <td>108.000000</td>\n",
       "      <td>0.000000</td>\n",
       "      <td>-172.000000</td>\n",
       "      <td>...</td>\n",
       "      <td>-4.100000</td>\n",
       "      <td>0.000000</td>\n",
       "      <td>-28.600000</td>\n",
       "      <td>0.000000</td>\n",
       "      <td>0.0</td>\n",
       "      <td>-0.800000</td>\n",
       "      <td>-6.000000</td>\n",
       "      <td>-44.200000</td>\n",
       "      <td>-38.600000</td>\n",
       "      <td>1.000000</td>\n",
       "    </tr>\n",
       "    <tr>\n",
       "      <th>25%</th>\n",
       "      <td>36.000000</td>\n",
       "      <td>0.000000</td>\n",
       "      <td>160.000000</td>\n",
       "      <td>59.000000</td>\n",
       "      <td>80.000000</td>\n",
       "      <td>142.000000</td>\n",
       "      <td>350.000000</td>\n",
       "      <td>148.000000</td>\n",
       "      <td>79.000000</td>\n",
       "      <td>4.000000</td>\n",
       "      <td>...</td>\n",
       "      <td>-0.450000</td>\n",
       "      <td>6.600000</td>\n",
       "      <td>-2.100000</td>\n",
       "      <td>0.000000</td>\n",
       "      <td>0.0</td>\n",
       "      <td>0.400000</td>\n",
       "      <td>0.500000</td>\n",
       "      <td>11.400000</td>\n",
       "      <td>17.500000</td>\n",
       "      <td>1.000000</td>\n",
       "    </tr>\n",
       "    <tr>\n",
       "      <th>50%</th>\n",
       "      <td>47.000000</td>\n",
       "      <td>1.000000</td>\n",
       "      <td>164.000000</td>\n",
       "      <td>68.000000</td>\n",
       "      <td>86.000000</td>\n",
       "      <td>157.000000</td>\n",
       "      <td>367.000000</td>\n",
       "      <td>162.000000</td>\n",
       "      <td>91.000000</td>\n",
       "      <td>40.000000</td>\n",
       "      <td>...</td>\n",
       "      <td>0.000000</td>\n",
       "      <td>8.800000</td>\n",
       "      <td>-1.100000</td>\n",
       "      <td>0.000000</td>\n",
       "      <td>0.0</td>\n",
       "      <td>0.500000</td>\n",
       "      <td>1.300000</td>\n",
       "      <td>18.100000</td>\n",
       "      <td>27.900000</td>\n",
       "      <td>1.000000</td>\n",
       "    </tr>\n",
       "    <tr>\n",
       "      <th>75%</th>\n",
       "      <td>58.000000</td>\n",
       "      <td>1.000000</td>\n",
       "      <td>170.000000</td>\n",
       "      <td>78.500000</td>\n",
       "      <td>94.000000</td>\n",
       "      <td>174.500000</td>\n",
       "      <td>384.000000</td>\n",
       "      <td>179.000000</td>\n",
       "      <td>102.000000</td>\n",
       "      <td>66.000000</td>\n",
       "      <td>...</td>\n",
       "      <td>0.000000</td>\n",
       "      <td>11.200000</td>\n",
       "      <td>0.000000</td>\n",
       "      <td>0.000000</td>\n",
       "      <td>0.0</td>\n",
       "      <td>0.700000</td>\n",
       "      <td>2.100000</td>\n",
       "      <td>25.850000</td>\n",
       "      <td>41.050000</td>\n",
       "      <td>6.000000</td>\n",
       "    </tr>\n",
       "    <tr>\n",
       "      <th>max</th>\n",
       "      <td>83.000000</td>\n",
       "      <td>1.000000</td>\n",
       "      <td>780.000000</td>\n",
       "      <td>176.000000</td>\n",
       "      <td>188.000000</td>\n",
       "      <td>524.000000</td>\n",
       "      <td>509.000000</td>\n",
       "      <td>381.000000</td>\n",
       "      <td>205.000000</td>\n",
       "      <td>169.000000</td>\n",
       "      <td>...</td>\n",
       "      <td>0.000000</td>\n",
       "      <td>23.600000</td>\n",
       "      <td>0.000000</td>\n",
       "      <td>0.800000</td>\n",
       "      <td>0.0</td>\n",
       "      <td>2.400000</td>\n",
       "      <td>6.000000</td>\n",
       "      <td>88.800000</td>\n",
       "      <td>115.900000</td>\n",
       "      <td>16.000000</td>\n",
       "    </tr>\n",
       "  </tbody>\n",
       "</table>\n",
       "<p>8 rows × 275 columns</p>\n",
       "</div>"
      ],
      "text/plain": [
       "              0           1           2           3           4           5    \\\n",
       "count  451.000000  451.000000  451.000000  451.000000  451.000000  451.000000   \n",
       "mean    46.407982    0.552106  166.135255   68.144124   88.915743  155.068736   \n",
       "std     16.429846    0.497830   37.194646   16.599841   15.381143   44.856534   \n",
       "min      0.000000    0.000000  105.000000    6.000000   55.000000    0.000000   \n",
       "25%     36.000000    0.000000  160.000000   59.000000   80.000000  142.000000   \n",
       "50%     47.000000    1.000000  164.000000   68.000000   86.000000  157.000000   \n",
       "75%     58.000000    1.000000  170.000000   78.500000   94.000000  174.500000   \n",
       "max     83.000000    1.000000  780.000000  176.000000  188.000000  524.000000   \n",
       "\n",
       "              6           7           8           9    ...         270  \\\n",
       "count  451.000000  451.000000  451.000000  451.000000  ...  451.000000   \n",
       "mean   367.199557  169.940133   89.935698   33.787140  ...   -0.279601   \n",
       "std     33.422017   35.672130   25.813912   45.421423  ...    0.549328   \n",
       "min    232.000000  108.000000    0.000000 -172.000000  ...   -4.100000   \n",
       "25%    350.000000  148.000000   79.000000    4.000000  ...   -0.450000   \n",
       "50%    367.000000  162.000000   91.000000   40.000000  ...    0.000000   \n",
       "75%    384.000000  179.000000  102.000000   66.000000  ...    0.000000   \n",
       "max    509.000000  381.000000  205.000000  169.000000  ...    0.000000   \n",
       "\n",
       "              271         272         273    274         275         276  \\\n",
       "count  451.000000  451.000000  451.000000  451.0  451.000000  451.000000   \n",
       "mean     9.048115   -1.458537    0.003991    0.0    0.513969    1.218625   \n",
       "std      3.476718    2.004481    0.050173    0.0    0.347441    1.425438   \n",
       "min      0.000000  -28.600000    0.000000    0.0   -0.800000   -6.000000   \n",
       "25%      6.600000   -2.100000    0.000000    0.0    0.400000    0.500000   \n",
       "50%      8.800000   -1.100000    0.000000    0.0    0.500000    1.300000   \n",
       "75%     11.200000    0.000000    0.000000    0.0    0.700000    2.100000   \n",
       "max     23.600000    0.000000    0.800000    0.0    2.400000    6.000000   \n",
       "\n",
       "              277         278         279  \n",
       "count  451.000000  451.000000  451.000000  \n",
       "mean    19.317295   29.429047    3.871397  \n",
       "std     13.517617   18.490566    4.407706  \n",
       "min    -44.200000  -38.600000    1.000000  \n",
       "25%     11.400000   17.500000    1.000000  \n",
       "50%     18.100000   27.900000    1.000000  \n",
       "75%     25.850000   41.050000    6.000000  \n",
       "max     88.800000  115.900000   16.000000  \n",
       "\n",
       "[8 rows x 275 columns]"
      ]
     },
     "execution_count": 6,
     "metadata": {},
     "output_type": "execute_result"
    }
   ],
   "source": [
    "###df.describe\n",
    "df.describe()"
   ]
  },
  {
   "cell_type": "code",
   "execution_count": 7,
   "metadata": {},
   "outputs": [
    {
     "data": {
      "text/plain": [
       "0      0\n",
       "1      0\n",
       "2      0\n",
       "3      0\n",
       "4      0\n",
       "      ..\n",
       "275    0\n",
       "276    0\n",
       "277    0\n",
       "278    0\n",
       "279    0\n",
       "Length: 280, dtype: int64"
      ]
     },
     "execution_count": 7,
     "metadata": {},
     "output_type": "execute_result"
    }
   ],
   "source": [
    "### Checking for missing values\n",
    "df.isnull().sum()"
   ]
  },
  {
   "cell_type": "code",
   "execution_count": 8,
   "metadata": {},
   "outputs": [
    {
     "data": {
      "text/plain": [
       "<AxesSubplot:>"
      ]
     },
     "execution_count": 8,
     "metadata": {},
     "output_type": "execute_result"
    },
    {
     "data": {
      "image/png": "[encoded data removed]",
      "text/plain": [
       "<Figure size 432x288 with 2 Axes>"
      ]
     },
     "metadata": {
      "needs_background": "light"
     },
     "output_type": "display_data"
    }
   ],
   "source": [
    "sns.heatmap(df.isnull()) ## No missing values"
   ]
  },
  {
   "cell_type": "code",
   "execution_count": 9,
   "metadata": {},
   "outputs": [
    {
     "data": {
      "text/plain": [
       "1     245\n",
       "10     50\n",
       "2      44\n",
       "6      25\n",
       "16     22\n",
       "4      15\n",
       "3      15\n",
       "5      13\n",
       "9       9\n",
       "15      5\n",
       "14      4\n",
       "7       3\n",
       "8       1\n",
       "Name: 279, dtype: int64"
      ]
     },
     "execution_count": 9,
     "metadata": {},
     "output_type": "execute_result"
    }
   ],
   "source": [
    "## Value counts of target class\n",
    "df[279].value_counts()"
   ]
  },
  {
   "cell_type": "code",
   "execution_count": 10,
   "metadata": {},
   "outputs": [],
   "source": [
    "objects = [col for col in range(len(df.columns)) if df[col].dtypes==\"O\"]"
   ]
  },
  {
   "cell_type": "code",
   "execution_count": 11,
   "metadata": {},
   "outputs": [
    {
     "data": {
      "text/plain": [
       "[10, 11, 12, 13, 14]"
      ]
     },
     "execution_count": 11,
     "metadata": {},
     "output_type": "execute_result"
    }
   ],
   "source": [
    "objects ### columns 10,11,12,13,14 are object type"
   ]
  },
  {
   "cell_type": "code",
   "execution_count": 12,
   "metadata": {},
   "outputs": [],
   "source": [
    "for i in objects:\n",
    "    df[i] = df[i].replace(\"?\",0)"
   ]
  },
  {
   "cell_type": "code",
   "execution_count": 13,
   "metadata": {},
   "outputs": [],
   "source": [
    "for i in objects:\n",
    "    df[i] = df[i].astype(\"float\") "
   ]
  },
  {
   "cell_type": "code",
   "execution_count": 14,
   "metadata": {},
   "outputs": [],
   "source": [
    "for i in objects:\n",
    "    df[i] = df[i].replace(0,df[i].mean())"
   ]
  },
  {
   "cell_type": "code",
   "execution_count": 15,
   "metadata": {},
   "outputs": [],
   "source": [
    "###There are total 16 classes"
   ]
  },
  {
   "cell_type": "markdown",
   "metadata": {},
   "source": [
    "***Let us try to extract 50 components first using PCA***"
   ]
  },
  {
   "cell_type": "code",
   "execution_count": 16,
   "metadata": {},
   "outputs": [],
   "source": [
    "## Feature Vector\n",
    "X = df.drop(279,axis=1).values\n",
    "### Target Vector\n",
    "y = df[279].values"
   ]
  },
  {
   "cell_type": "code",
   "execution_count": 17,
   "metadata": {},
   "outputs": [
    {
     "data": {
      "text/plain": [
       "(451, 279)"
      ]
     },
     "execution_count": 17,
     "metadata": {},
     "output_type": "execute_result"
    }
   ],
   "source": [
    "X.shape"
   ]
  },
  {
   "cell_type": "code",
   "execution_count": 18,
   "metadata": {},
   "outputs": [
    {
     "data": {
      "text/plain": [
       "(451,)"
      ]
     },
     "execution_count": 18,
     "metadata": {},
     "output_type": "execute_result"
    }
   ],
   "source": [
    "y.shape"
   ]
  },
  {
   "cell_type": "code",
   "execution_count": 19,
   "metadata": {},
   "outputs": [],
   "source": [
    "### train test split"
   ]
  },
  {
   "cell_type": "code",
   "execution_count": 65,
   "metadata": {},
   "outputs": [],
   "source": [
    "from sklearn.model_selection import train_test_split\n",
    "X_train, X_test, y_train, y_test = train_test_split(X, y, test_size=0.33, random_state=42)"
   ]
  },
  {
   "cell_type": "code",
   "execution_count": 66,
   "metadata": {},
   "outputs": [],
   "source": [
    "### scaling\n",
    "from sklearn.preprocessing import StandardScaler\n",
    "scaler = StandardScaler()\n",
    "X_train_scaled = scaler.fit_transform(X_train)\n",
    "X_test_scaled = scaler.transform(X_test)"
   ]
  },
  {
   "cell_type": "code",
   "execution_count": 67,
   "metadata": {},
   "outputs": [],
   "source": [
    "## PCA = 50"
   ]
  },
  {
   "cell_type": "code",
   "execution_count": 68,
   "metadata": {},
   "outputs": [],
   "source": [
    "from sklearn.decomposition import PCA\n",
    "pca = PCA(n_components=50)"
   ]
  },
  {
   "cell_type": "code",
   "execution_count": 69,
   "metadata": {},
   "outputs": [],
   "source": [
    "principal_componens_50 = pca.fit_transform(X_train_scaled)"
   ]
  },
  {
   "cell_type": "code",
   "execution_count": 70,
   "metadata": {},
   "outputs": [],
   "source": [
    "explained_variance_50 = np.mean(pca.explained_variance_)"
   ]
  },
  {
   "cell_type": "code",
   "execution_count": 71,
   "metadata": {},
   "outputs": [
    {
     "data": {
      "text/plain": [
       "4.206640587287831"
      ]
     },
     "execution_count": 71,
     "metadata": {},
     "output_type": "execute_result"
    }
   ],
   "source": [
    "explained_variance_50"
   ]
  },
  {
   "cell_type": "code",
   "execution_count": 72,
   "metadata": {},
   "outputs": [],
   "source": [
    "## loop to test ideal n_components"
   ]
  },
  {
   "cell_type": "code",
   "execution_count": 73,
   "metadata": {},
   "outputs": [],
   "source": [
    "n_components_ = [10,20,30,40,50,60,70,80,90,100,110,120,130,140,150]\n",
    "exp_var=[]\n",
    "for i in range(len(n_components_)):\n",
    "    pca = PCA(n_components=n_components_[i])\n",
    "    principal_components = pca.fit_transform(X_train_scaled)\n",
    "    mean_exp_variance = np.mean(pca.explained_variance_)\n",
    "    exp_var.append(mean_exp_variance)"
   ]
  },
  {
   "cell_type": "code",
   "execution_count": 74,
   "metadata": {},
   "outputs": [
    {
     "data": {
      "text/plain": [
       "[11.118850711941402,\n",
       " 7.577168914957069,\n",
       " 5.940075885808834,\n",
       " 4.916208391365875,\n",
       " 4.206640587287831,\n",
       " 3.6826654304855313,\n",
       " 3.27360017999308,\n",
       " 2.9397058634402966,\n",
       " 2.662229407889537,\n",
       " 2.42829158893623,\n",
       " 2.2291017763302348,\n",
       " 2.0576062279954757,\n",
       " 1.9088479666406306,\n",
       " 1.778950628985241,\n",
       " 1.6644537674291733]"
      ]
     },
     "execution_count": 74,
     "metadata": {},
     "output_type": "execute_result"
    }
   ],
   "source": [
    "exp_var"
   ]
  },
  {
   "cell_type": "code",
   "execution_count": 75,
   "metadata": {},
   "outputs": [],
   "source": [
    "pca = PCA(n_components=100)\n",
    "X_train_pca = pca.fit_transform(X_train_scaled)\n",
    "X_test_pca = pca.transform(X_test_scaled) ##100 PCA Components"
   ]
  },
  {
   "cell_type": "code",
   "execution_count": 76,
   "metadata": {},
   "outputs": [],
   "source": [
    "from tensorflow.keras.utils import to_categorical"
   ]
  },
  {
   "cell_type": "code",
   "execution_count": 77,
   "metadata": {},
   "outputs": [],
   "source": [
    "y_train_cat = to_categorical(y_train)\n",
    "y_test_cat = to_categorical(y_test) ## One hot encoding"
   ]
  },
  {
   "cell_type": "code",
   "execution_count": 78,
   "metadata": {},
   "outputs": [],
   "source": [
    "## model\n"
   ]
  },
  {
   "cell_type": "code",
   "execution_count": 125,
   "metadata": {},
   "outputs": [],
   "source": [
    "from tensorflow.keras.utils import to_categorical\n",
    "from tensorflow.keras.models import Sequential\n",
    "from tensorflow.keras.layers import Dense,Dropout ## Tensorflow imports\n"
   ]
  },
  {
   "cell_type": "code",
   "execution_count": 90,
   "metadata": {},
   "outputs": [],
   "source": [
    "model = Sequential()\n",
    "model.add(Dense(100,activation=\"relu\",kernel_initializer=\"he_uniform\"))\n",
    "model.add(Dense(50,activation=\"relu\",kernel_initializer=\"he_uniform\"))\n",
    "model.add(Dense(17,activation=\"softmax\"))\n",
    "\n",
    "model.compile(loss=\"binary_crossentropy\",optimizer=\"adam\",metrics=[\"accuracy\"]) ###First Model"
   ]
  },
  {
   "cell_type": "code",
   "execution_count": 91,
   "metadata": {},
   "outputs": [
    {
     "name": "stdout",
     "output_type": "stream",
     "text": [
      "Train on 302 samples, validate on 149 samples\n",
      "Epoch 1/25\n",
      "302/302 [==============================] - 0s 1ms/sample - loss: 0.3445 - accuracy: 0.9270 - val_loss: 0.2767 - val_accuracy: 0.9356\n",
      "Epoch 2/25\n",
      "302/302 [==============================] - 0s 165us/sample - loss: 0.2386 - accuracy: 0.9375 - val_loss: 0.2269 - val_accuracy: 0.9368\n",
      "Epoch 3/25\n",
      "302/302 [==============================] - 0s 168us/sample - loss: 0.1781 - accuracy: 0.9425 - val_loss: 0.1931 - val_accuracy: 0.9400\n",
      "Epoch 4/25\n",
      "302/302 [==============================] - 0s 134us/sample - loss: 0.1472 - accuracy: 0.9490 - val_loss: 0.1823 - val_accuracy: 0.9416\n",
      "Epoch 5/25\n",
      "302/302 [==============================] - 0s 168us/sample - loss: 0.1250 - accuracy: 0.9568 - val_loss: 0.1717 - val_accuracy: 0.9416\n",
      "Epoch 6/25\n",
      "302/302 [==============================] - 0s 142us/sample - loss: 0.1069 - accuracy: 0.9624 - val_loss: 0.1607 - val_accuracy: 0.9455\n",
      "Epoch 7/25\n",
      "302/302 [==============================] - 0s 165us/sample - loss: 0.0939 - accuracy: 0.9657 - val_loss: 0.1537 - val_accuracy: 0.9491\n",
      "Epoch 8/25\n",
      "302/302 [==============================] - 0s 154us/sample - loss: 0.0831 - accuracy: 0.9698 - val_loss: 0.1480 - val_accuracy: 0.9522\n",
      "Epoch 9/25\n",
      "302/302 [==============================] - 0s 175us/sample - loss: 0.0739 - accuracy: 0.9721 - val_loss: 0.1446 - val_accuracy: 0.9526\n",
      "Epoch 10/25\n",
      "302/302 [==============================] - 0s 164us/sample - loss: 0.0658 - accuracy: 0.9760 - val_loss: 0.1411 - val_accuracy: 0.9526\n",
      "Epoch 11/25\n",
      "302/302 [==============================] - 0s 168us/sample - loss: 0.0587 - accuracy: 0.9801 - val_loss: 0.1400 - val_accuracy: 0.9530\n",
      "Epoch 12/25\n",
      "302/302 [==============================] - 0s 169us/sample - loss: 0.0529 - accuracy: 0.9832 - val_loss: 0.1383 - val_accuracy: 0.9538\n",
      "Epoch 13/25\n",
      "302/302 [==============================] - 0s 139us/sample - loss: 0.0475 - accuracy: 0.9850 - val_loss: 0.1365 - val_accuracy: 0.9570\n",
      "Epoch 14/25\n",
      "302/302 [==============================] - 0s 178us/sample - loss: 0.0427 - accuracy: 0.9869 - val_loss: 0.1363 - val_accuracy: 0.9582\n",
      "Epoch 15/25\n",
      "302/302 [==============================] - 0s 162us/sample - loss: 0.0386 - accuracy: 0.9885 - val_loss: 0.1359 - val_accuracy: 0.9574\n",
      "Epoch 16/25\n",
      "302/302 [==============================] - 0s 182us/sample - loss: 0.0348 - accuracy: 0.9910 - val_loss: 0.1362 - val_accuracy: 0.9574\n",
      "Epoch 17/25\n",
      "302/302 [==============================] - 0s 165us/sample - loss: 0.0316 - accuracy: 0.9920 - val_loss: 0.1372 - val_accuracy: 0.9578\n",
      "Epoch 18/25\n",
      "302/302 [==============================] - 0s 178us/sample - loss: 0.0289 - accuracy: 0.9928 - val_loss: 0.1375 - val_accuracy: 0.9578\n",
      "Epoch 19/25\n",
      "302/302 [==============================] - 0s 152us/sample - loss: 0.0261 - accuracy: 0.9936 - val_loss: 0.1389 - val_accuracy: 0.9585\n",
      "Epoch 20/25\n",
      "302/302 [==============================] - 0s 165us/sample - loss: 0.0237 - accuracy: 0.9942 - val_loss: 0.1397 - val_accuracy: 0.9578\n",
      "Epoch 21/25\n",
      "302/302 [==============================] - 0s 155us/sample - loss: 0.0215 - accuracy: 0.9949 - val_loss: 0.1396 - val_accuracy: 0.9574\n",
      "Epoch 22/25\n",
      "302/302 [==============================] - 0s 142us/sample - loss: 0.0197 - accuracy: 0.9955 - val_loss: 0.1409 - val_accuracy: 0.9566\n",
      "Epoch 23/25\n",
      "302/302 [==============================] - 0s 165us/sample - loss: 0.0179 - accuracy: 0.9961 - val_loss: 0.1425 - val_accuracy: 0.9574\n",
      "Epoch 24/25\n",
      "302/302 [==============================] - 0s 145us/sample - loss: 0.0162 - accuracy: 0.9967 - val_loss: 0.1424 - val_accuracy: 0.9585\n",
      "Epoch 25/25\n",
      "302/302 [==============================] - 0s 168us/sample - loss: 0.0147 - accuracy: 0.9975 - val_loss: 0.1431 - val_accuracy: 0.9582\n"
     ]
    },
    {
     "data": {
      "text/plain": [
       "<tensorflow.python.keras.callbacks.History at 0x27c16b92ec8>"
      ]
     },
     "execution_count": 91,
     "metadata": {},
     "output_type": "execute_result"
    }
   ],
   "source": [
    "model.fit(X_train_pca,y_train_cat,validation_data=(X_test_pca,y_test_cat),epochs=25)"
   ]
  },
  {
   "cell_type": "code",
   "execution_count": 93,
   "metadata": {},
   "outputs": [],
   "source": [
    "p=model.predict_classes(X_test_pca)"
   ]
  },
  {
   "cell_type": "code",
   "execution_count": 101,
   "metadata": {},
   "outputs": [],
   "source": [
    "from sklearn.metrics import confusion_matrix,classification_report,accuracy_score"
   ]
  },
  {
   "cell_type": "code",
   "execution_count": 98,
   "metadata": {},
   "outputs": [
    {
     "name": "stdout",
     "output_type": "stream",
     "text": [
      "[[70  3  1  2  3  5  1  1  0  8  2  1  3]\n",
      " [ 7  4  1  0  0  0  0  0  2  2  0  1  1]\n",
      " [ 0  0  4  0  0  0  0  0  0  0  0  0  0]\n",
      " [ 1  0  0  4  0  0  0  0  0  1  0  0  0]\n",
      " [ 0  0  0  0  1  0  0  0  0  1  0  0  0]\n",
      " [ 1  0  0  0  0  1  0  0  0  0  0  0  1]\n",
      " [ 0  0  0  0  0  0  0  0  0  0  0  0  0]\n",
      " [ 0  0  0  0  0  0  0  0  0  0  0  0  0]\n",
      " [ 0  0  0  0  0  0  0  0  1  0  0  0  0]\n",
      " [ 0  0  0  0  1  0  0  0  0 11  0  0  0]\n",
      " [ 0  0  0  0  0  0  0  0  0  0  0  0  0]\n",
      " [ 1  0  0  0  0  0  0  0  0  0  0  0  0]\n",
      " [ 1  1  0  0  0  0  0  0  0  0  0  0  0]]\n"
     ]
    }
   ],
   "source": [
    "print(confusion_matrix(p,y_test))"
   ]
  },
  {
   "cell_type": "code",
   "execution_count": 100,
   "metadata": {},
   "outputs": [
    {
     "name": "stdout",
     "output_type": "stream",
     "text": [
      "              precision    recall  f1-score   support\n",
      "\n",
      "           1       0.86      0.70      0.77       100\n",
      "           2       0.50      0.22      0.31        18\n",
      "           3       0.67      1.00      0.80         4\n",
      "           4       0.67      0.67      0.67         6\n",
      "           5       0.20      0.50      0.29         2\n",
      "           6       0.17      0.33      0.22         3\n",
      "           7       0.00      0.00      0.00         0\n",
      "           8       0.00      0.00      0.00         0\n",
      "           9       0.33      1.00      0.50         1\n",
      "          10       0.48      0.92      0.63        12\n",
      "          14       0.00      0.00      0.00         0\n",
      "          15       0.00      0.00      0.00         1\n",
      "          16       0.00      0.00      0.00         2\n",
      "\n",
      "    accuracy                           0.64       149\n",
      "   macro avg       0.30      0.41      0.32       149\n",
      "weighted avg       0.73      0.64      0.67       149\n",
      "\n"
     ]
    }
   ],
   "source": [
    "print(classification_report(p,y_test))"
   ]
  },
  {
   "cell_type": "code",
   "execution_count": 104,
   "metadata": {},
   "outputs": [
    {
     "data": {
      "text/plain": [
       "0.6442953020134228"
      ]
     },
     "execution_count": 104,
     "metadata": {},
     "output_type": "execute_result"
    }
   ],
   "source": [
    "accuracy_score(p,y_test) ## Accuracy"
   ]
  },
  {
   "cell_type": "code",
   "execution_count": 106,
   "metadata": {},
   "outputs": [],
   "source": [
    "model2 = Sequential()\n",
    "model2.add(Dense(100,activation=\"relu\"))\n",
    "model2.add(Dense(100,activation=\"sigmoid\"))\n",
    "model2.add(Dense(17,activation=\"softmax\"))\n",
    "\n",
    "model2.compile(loss=\"binary_crossentropy\",optimizer=\"adam\",metrics=[\"accuracy\"]) ## Second model"
   ]
  },
  {
   "cell_type": "code",
   "execution_count": 107,
   "metadata": {},
   "outputs": [
    {
     "name": "stdout",
     "output_type": "stream",
     "text": [
      "Train on 302 samples, validate on 149 samples\n",
      "Epoch 1/25\n",
      "302/302 [==============================] - 0s 2ms/sample - loss: 0.2397 - accuracy: 0.9412 - val_loss: 0.2063 - val_accuracy: 0.9412\n",
      "Epoch 2/25\n",
      "302/302 [==============================] - 0s 145us/sample - loss: 0.1806 - accuracy: 0.9412 - val_loss: 0.1641 - val_accuracy: 0.9392\n",
      "Epoch 3/25\n",
      "302/302 [==============================] - 0s 188us/sample - loss: 0.1486 - accuracy: 0.9422 - val_loss: 0.1487 - val_accuracy: 0.9432\n",
      "Epoch 4/25\n",
      "302/302 [==============================] - 0s 161us/sample - loss: 0.1356 - accuracy: 0.9451 - val_loss: 0.1419 - val_accuracy: 0.9467\n",
      "Epoch 5/25\n",
      "302/302 [==============================] - 0s 172us/sample - loss: 0.1241 - accuracy: 0.9548 - val_loss: 0.1370 - val_accuracy: 0.9479\n",
      "Epoch 6/25\n",
      "302/302 [==============================] - 0s 167us/sample - loss: 0.1155 - accuracy: 0.9583 - val_loss: 0.1332 - val_accuracy: 0.9510\n",
      "Epoch 7/25\n",
      "302/302 [==============================] - 0s 145us/sample - loss: 0.1071 - accuracy: 0.9626 - val_loss: 0.1282 - val_accuracy: 0.9554\n",
      "Epoch 8/25\n",
      "302/302 [==============================] - 0s 163us/sample - loss: 0.0995 - accuracy: 0.9681 - val_loss: 0.1231 - val_accuracy: 0.9570\n",
      "Epoch 9/25\n",
      "302/302 [==============================] - 0s 172us/sample - loss: 0.0922 - accuracy: 0.9704 - val_loss: 0.1198 - val_accuracy: 0.9589\n",
      "Epoch 10/25\n",
      "302/302 [==============================] - 0s 147us/sample - loss: 0.0858 - accuracy: 0.9727 - val_loss: 0.1169 - val_accuracy: 0.9605\n",
      "Epoch 11/25\n",
      "302/302 [==============================] - 0s 172us/sample - loss: 0.0800 - accuracy: 0.9739 - val_loss: 0.1149 - val_accuracy: 0.9609\n",
      "Epoch 12/25\n",
      "302/302 [==============================] - 0s 178us/sample - loss: 0.0745 - accuracy: 0.9764 - val_loss: 0.1134 - val_accuracy: 0.9601\n",
      "Epoch 13/25\n",
      "302/302 [==============================] - 0s 172us/sample - loss: 0.0694 - accuracy: 0.9772 - val_loss: 0.1119 - val_accuracy: 0.9597\n",
      "Epoch 14/25\n",
      "302/302 [==============================] - 0s 152us/sample - loss: 0.0648 - accuracy: 0.9786 - val_loss: 0.1107 - val_accuracy: 0.9609\n",
      "Epoch 15/25\n",
      "302/302 [==============================] - 0s 188us/sample - loss: 0.0601 - accuracy: 0.9795 - val_loss: 0.1097 - val_accuracy: 0.9621\n",
      "Epoch 16/25\n",
      "302/302 [==============================] - 0s 165us/sample - loss: 0.0561 - accuracy: 0.9817 - val_loss: 0.1095 - val_accuracy: 0.9609\n",
      "Epoch 17/25\n",
      "302/302 [==============================] - 0s 142us/sample - loss: 0.0517 - accuracy: 0.9832 - val_loss: 0.1094 - val_accuracy: 0.9617\n",
      "Epoch 18/25\n",
      "302/302 [==============================] - 0s 168us/sample - loss: 0.0481 - accuracy: 0.9854 - val_loss: 0.1091 - val_accuracy: 0.9629\n",
      "Epoch 19/25\n",
      "302/302 [==============================] - 0s 162us/sample - loss: 0.0444 - accuracy: 0.9868 - val_loss: 0.1089 - val_accuracy: 0.9617\n",
      "Epoch 20/25\n",
      "302/302 [==============================] - 0s 145us/sample - loss: 0.0409 - accuracy: 0.9879 - val_loss: 0.1088 - val_accuracy: 0.9625\n",
      "Epoch 21/25\n",
      "302/302 [==============================] - 0s 168us/sample - loss: 0.0379 - accuracy: 0.9883 - val_loss: 0.1092 - val_accuracy: 0.9629\n",
      "Epoch 22/25\n",
      "302/302 [==============================] - 0s 168us/sample - loss: 0.0352 - accuracy: 0.9907 - val_loss: 0.1097 - val_accuracy: 0.9649\n",
      "Epoch 23/25\n",
      "302/302 [==============================] - 0s 159us/sample - loss: 0.0324 - accuracy: 0.9912 - val_loss: 0.1109 - val_accuracy: 0.9633\n",
      "Epoch 24/25\n",
      "302/302 [==============================] - 0s 165us/sample - loss: 0.0298 - accuracy: 0.9926 - val_loss: 0.1104 - val_accuracy: 0.9629\n",
      "Epoch 25/25\n",
      "302/302 [==============================] - 0s 168us/sample - loss: 0.0274 - accuracy: 0.9934 - val_loss: 0.1112 - val_accuracy: 0.9621\n"
     ]
    },
    {
     "data": {
      "text/plain": [
       "<tensorflow.python.keras.callbacks.History at 0x27c171eb248>"
      ]
     },
     "execution_count": 107,
     "metadata": {},
     "output_type": "execute_result"
    }
   ],
   "source": [
    "model2.fit(X_train_pca,y_train_cat,validation_data=(X_test_pca,y_test_cat),epochs=25)"
   ]
  },
  {
   "cell_type": "code",
   "execution_count": 111,
   "metadata": {},
   "outputs": [
    {
     "name": "stdout",
     "output_type": "stream",
     "text": [
      "149/149 [==============================] - 0s 187us/sample - loss: 0.1112 - accuracy: 0.9621\n"
     ]
    },
    {
     "data": {
      "text/plain": [
       "[0.1112349193868221, 0.96210027]"
      ]
     },
     "execution_count": 111,
     "metadata": {},
     "output_type": "execute_result"
    }
   ],
   "source": [
    "model2.evaluate(X_test_pca,y_test_cat)"
   ]
  },
  {
   "cell_type": "code",
   "execution_count": 110,
   "metadata": {},
   "outputs": [],
   "source": [
    "model3 = Sequential()\n",
    "model3.add(Dense(150,activation=\"sigmoid\",kernel_initializer=\"glorot_normal\"))\n",
    "model3.add(Dense(100,activation=\"sigmoid\",kernel_initializer=\"glorot_normal\"))\n",
    "model3.add(Dense(17,activation=\"softmax\"))\n",
    "\n",
    "model3.compile(loss=\"binary_crossentropy\",optimizer=\"adam\",metrics=[\"accuracy\"]) ###Third Model"
   ]
  },
  {
   "cell_type": "code",
   "execution_count": 112,
   "metadata": {},
   "outputs": [
    {
     "name": "stdout",
     "output_type": "stream",
     "text": [
      "Train on 302 samples, validate on 149 samples\n",
      "Epoch 1/25\n",
      "302/302 [==============================] - 0s 1ms/sample - loss: 0.1857 - accuracy: 0.9412 - val_loss: 0.1547 - val_accuracy: 0.9483\n",
      "Epoch 2/25\n",
      "302/302 [==============================] - 0s 145us/sample - loss: 0.1475 - accuracy: 0.9496 - val_loss: 0.1489 - val_accuracy: 0.9463\n",
      "Epoch 3/25\n",
      "302/302 [==============================] - 0s 159us/sample - loss: 0.1401 - accuracy: 0.9486 - val_loss: 0.1447 - val_accuracy: 0.9574\n",
      "Epoch 4/25\n",
      "302/302 [==============================] - 0s 172us/sample - loss: 0.1350 - accuracy: 0.9618 - val_loss: 0.1421 - val_accuracy: 0.9582\n",
      "Epoch 5/25\n",
      "302/302 [==============================] - 0s 158us/sample - loss: 0.1309 - accuracy: 0.9618 - val_loss: 0.1393 - val_accuracy: 0.9574\n",
      "Epoch 6/25\n",
      "302/302 [==============================] - 0s 172us/sample - loss: 0.1269 - accuracy: 0.9624 - val_loss: 0.1366 - val_accuracy: 0.9570\n",
      "Epoch 7/25\n",
      "302/302 [==============================] - 0s 172us/sample - loss: 0.1225 - accuracy: 0.9630 - val_loss: 0.1340 - val_accuracy: 0.9585\n",
      "Epoch 8/25\n",
      "302/302 [==============================] - 0s 168us/sample - loss: 0.1180 - accuracy: 0.9626 - val_loss: 0.1310 - val_accuracy: 0.9570\n",
      "Epoch 9/25\n",
      "302/302 [==============================] - 0s 145us/sample - loss: 0.1132 - accuracy: 0.9646 - val_loss: 0.1289 - val_accuracy: 0.9570\n",
      "Epoch 10/25\n",
      "302/302 [==============================] - 0s 152us/sample - loss: 0.1088 - accuracy: 0.9642 - val_loss: 0.1262 - val_accuracy: 0.9589\n",
      "Epoch 11/25\n",
      "302/302 [==============================] - 0s 175us/sample - loss: 0.1040 - accuracy: 0.9651 - val_loss: 0.1240 - val_accuracy: 0.9593\n",
      "Epoch 12/25\n",
      "302/302 [==============================] - 0s 165us/sample - loss: 0.0996 - accuracy: 0.9659 - val_loss: 0.1215 - val_accuracy: 0.9601\n",
      "Epoch 13/25\n",
      "302/302 [==============================] - 0s 145us/sample - loss: 0.0953 - accuracy: 0.9696 - val_loss: 0.1211 - val_accuracy: 0.9601\n",
      "Epoch 14/25\n",
      "302/302 [==============================] - 0s 152us/sample - loss: 0.0910 - accuracy: 0.9712 - val_loss: 0.1192 - val_accuracy: 0.9617\n",
      "Epoch 15/25\n",
      "302/302 [==============================] - 0s 152us/sample - loss: 0.0870 - accuracy: 0.9716 - val_loss: 0.1180 - val_accuracy: 0.9605\n",
      "Epoch 16/25\n",
      "302/302 [==============================] - 0s 155us/sample - loss: 0.0838 - accuracy: 0.9720 - val_loss: 0.1167 - val_accuracy: 0.9609\n",
      "Epoch 17/25\n",
      "302/302 [==============================] - 0s 169us/sample - loss: 0.0805 - accuracy: 0.9723 - val_loss: 0.1160 - val_accuracy: 0.9609\n",
      "Epoch 18/25\n",
      "302/302 [==============================] - 0s 175us/sample - loss: 0.0774 - accuracy: 0.9735 - val_loss: 0.1151 - val_accuracy: 0.9605\n",
      "Epoch 19/25\n",
      "302/302 [==============================] - 0s 172us/sample - loss: 0.0744 - accuracy: 0.9739 - val_loss: 0.1143 - val_accuracy: 0.9609\n",
      "Epoch 20/25\n",
      "302/302 [==============================] - 0s 152us/sample - loss: 0.0716 - accuracy: 0.9743 - val_loss: 0.1140 - val_accuracy: 0.9605\n",
      "Epoch 21/25\n",
      "302/302 [==============================] - 0s 168us/sample - loss: 0.0691 - accuracy: 0.9755 - val_loss: 0.1141 - val_accuracy: 0.9601\n",
      "Epoch 22/25\n",
      "302/302 [==============================] - 0s 152us/sample - loss: 0.0662 - accuracy: 0.9768 - val_loss: 0.1141 - val_accuracy: 0.9597\n",
      "Epoch 23/25\n",
      "302/302 [==============================] - 0s 155us/sample - loss: 0.0638 - accuracy: 0.9776 - val_loss: 0.1132 - val_accuracy: 0.9601\n",
      "Epoch 24/25\n",
      "302/302 [==============================] - 0s 178us/sample - loss: 0.0618 - accuracy: 0.9786 - val_loss: 0.1137 - val_accuracy: 0.9601\n",
      "Epoch 25/25\n",
      "302/302 [==============================] - 0s 168us/sample - loss: 0.0596 - accuracy: 0.9792 - val_loss: 0.1143 - val_accuracy: 0.9589\n"
     ]
    },
    {
     "data": {
      "text/plain": [
       "<tensorflow.python.keras.callbacks.History at 0x27c16eadec8>"
      ]
     },
     "execution_count": 112,
     "metadata": {},
     "output_type": "execute_result"
    }
   ],
   "source": [
    "model3.fit(X_train_pca,y_train_cat,validation_data=(X_test_pca,y_test_cat),epochs=25)"
   ]
  },
  {
   "cell_type": "code",
   "execution_count": 113,
   "metadata": {},
   "outputs": [
    {
     "name": "stdout",
     "output_type": "stream",
     "text": [
      "149/149 [==============================] - 0s 100us/sample - loss: 0.1143 - accuracy: 0.9589\n"
     ]
    },
    {
     "data": {
      "text/plain": [
       "[0.11432553982774683, 0.958942]"
      ]
     },
     "execution_count": 113,
     "metadata": {},
     "output_type": "execute_result"
    }
   ],
   "source": [
    "model3.evaluate(X_test_pca,y_test_cat)"
   ]
  },
  {
   "cell_type": "code",
   "execution_count": 114,
   "metadata": {},
   "outputs": [],
   "source": [
    "model4 = Sequential()\n",
    "model4.add(Dense(150,activation=\"sigmoid\",kernel_initializer=\"glorot_normal\"))\n",
    "model4.add(Dense(100,activation=\"sigmoid\",kernel_initializer=\"glorot_normal\"))\n",
    "model4.add(Dense(50,activation=\"sigmoid\",kernel_initializer=\"glorot_normal\"))\n",
    "\n",
    "model4.add(Dense(17,activation=\"softmax\"))\n",
    "\n",
    "model4.compile(loss=\"binary_crossentropy\",optimizer=\"adam\",metrics=[\"accuracy\"]) ##Fourth model"
   ]
  },
  {
   "cell_type": "code",
   "execution_count": 115,
   "metadata": {},
   "outputs": [
    {
     "name": "stdout",
     "output_type": "stream",
     "text": [
      "Train on 302 samples, validate on 149 samples\n",
      "Epoch 1/25\n",
      "302/302 [==============================] - 0s 1ms/sample - loss: 0.2429 - accuracy: 0.9412 - val_loss: 0.2170 - val_accuracy: 0.9412\n",
      "Epoch 2/25\n",
      "302/302 [==============================] - 0s 155us/sample - loss: 0.1998 - accuracy: 0.9412 - val_loss: 0.1839 - val_accuracy: 0.9412\n",
      "Epoch 3/25\n",
      "302/302 [==============================] - 0s 168us/sample - loss: 0.1730 - accuracy: 0.9412 - val_loss: 0.1650 - val_accuracy: 0.9412\n",
      "Epoch 4/25\n",
      "302/302 [==============================] - 0s 188us/sample - loss: 0.1581 - accuracy: 0.9412 - val_loss: 0.1562 - val_accuracy: 0.9412\n",
      "Epoch 5/25\n",
      "302/302 [==============================] - 0s 182us/sample - loss: 0.1510 - accuracy: 0.9412 - val_loss: 0.1528 - val_accuracy: 0.9412\n",
      "Epoch 6/25\n",
      "302/302 [==============================] - 0s 181us/sample - loss: 0.1480 - accuracy: 0.9474 - val_loss: 0.1511 - val_accuracy: 0.9463\n",
      "Epoch 7/25\n",
      "302/302 [==============================] - 0s 182us/sample - loss: 0.1461 - accuracy: 0.9462 - val_loss: 0.1503 - val_accuracy: 0.9463\n",
      "Epoch 8/25\n",
      "302/302 [==============================] - 0s 195us/sample - loss: 0.1450 - accuracy: 0.9462 - val_loss: 0.1494 - val_accuracy: 0.9463\n",
      "Epoch 9/25\n",
      "302/302 [==============================] - 0s 178us/sample - loss: 0.1441 - accuracy: 0.9466 - val_loss: 0.1485 - val_accuracy: 0.9467\n",
      "Epoch 10/25\n",
      "302/302 [==============================] - 0s 175us/sample - loss: 0.1433 - accuracy: 0.9480 - val_loss: 0.1481 - val_accuracy: 0.9471\n",
      "Epoch 11/25\n",
      "302/302 [==============================] - 0s 148us/sample - loss: 0.1424 - accuracy: 0.9501 - val_loss: 0.1476 - val_accuracy: 0.9499\n",
      "Epoch 12/25\n",
      "302/302 [==============================] - 0s 185us/sample - loss: 0.1413 - accuracy: 0.9550 - val_loss: 0.1465 - val_accuracy: 0.9530\n",
      "Epoch 13/25\n",
      "302/302 [==============================] - 0s 188us/sample - loss: 0.1399 - accuracy: 0.9573 - val_loss: 0.1455 - val_accuracy: 0.9585\n",
      "Epoch 14/25\n",
      "302/302 [==============================] - 0s 208us/sample - loss: 0.1379 - accuracy: 0.9601 - val_loss: 0.1444 - val_accuracy: 0.9582\n",
      "Epoch 15/25\n",
      "302/302 [==============================] - 0s 182us/sample - loss: 0.1353 - accuracy: 0.9632 - val_loss: 0.1424 - val_accuracy: 0.9574\n",
      "Epoch 16/25\n",
      "302/302 [==============================] - 0s 165us/sample - loss: 0.1317 - accuracy: 0.9636 - val_loss: 0.1397 - val_accuracy: 0.9582\n",
      "Epoch 17/25\n",
      "302/302 [==============================] - 0s 158us/sample - loss: 0.1275 - accuracy: 0.9634 - val_loss: 0.1374 - val_accuracy: 0.9578\n",
      "Epoch 18/25\n",
      "302/302 [==============================] - 0s 135us/sample - loss: 0.1231 - accuracy: 0.9636 - val_loss: 0.1358 - val_accuracy: 0.9570\n",
      "Epoch 19/25\n",
      "302/302 [==============================] - 0s 165us/sample - loss: 0.1190 - accuracy: 0.9636 - val_loss: 0.1339 - val_accuracy: 0.9578\n",
      "Epoch 20/25\n",
      "302/302 [==============================] - 0s 178us/sample - loss: 0.1150 - accuracy: 0.9644 - val_loss: 0.1324 - val_accuracy: 0.9566\n",
      "Epoch 21/25\n",
      "302/302 [==============================] - 0s 149us/sample - loss: 0.1117 - accuracy: 0.9649 - val_loss: 0.1310 - val_accuracy: 0.9570\n",
      "Epoch 22/25\n",
      "302/302 [==============================] - 0s 159us/sample - loss: 0.1085 - accuracy: 0.9651 - val_loss: 0.1306 - val_accuracy: 0.9574\n",
      "Epoch 23/25\n",
      "302/302 [==============================] - 0s 201us/sample - loss: 0.1056 - accuracy: 0.9667 - val_loss: 0.1304 - val_accuracy: 0.9578\n",
      "Epoch 24/25\n",
      "302/302 [==============================] - 0s 192us/sample - loss: 0.1027 - accuracy: 0.9675 - val_loss: 0.1288 - val_accuracy: 0.9570\n",
      "Epoch 25/25\n",
      "302/302 [==============================] - 0s 159us/sample - loss: 0.0999 - accuracy: 0.9688 - val_loss: 0.1286 - val_accuracy: 0.9554\n"
     ]
    },
    {
     "data": {
      "text/plain": [
       "<tensorflow.python.keras.callbacks.History at 0x27c15688608>"
      ]
     },
     "execution_count": 115,
     "metadata": {},
     "output_type": "execute_result"
    }
   ],
   "source": [
    "model4.fit(X_train_pca,y_train_cat,validation_data=(X_test_pca,y_test_cat),epochs=25)"
   ]
  },
  {
   "cell_type": "code",
   "execution_count": 116,
   "metadata": {},
   "outputs": [
    {
     "name": "stdout",
     "output_type": "stream",
     "text": [
      "149/149 [==============================] - 0s 100us/sample - loss: 0.1286 - accuracy: 0.9554\n"
     ]
    },
    {
     "data": {
      "text/plain": [
       "[0.1286411958952878, 0.95538884]"
      ]
     },
     "execution_count": 116,
     "metadata": {},
     "output_type": "execute_result"
    }
   ],
   "source": [
    "model4.evaluate(X_test_pca,y_test_cat) "
   ]
  },
  {
   "cell_type": "code",
   "execution_count": 119,
   "metadata": {},
   "outputs": [],
   "source": [
    "losses = pd.DataFrame(model.history.history) ##Track of Loss"
   ]
  },
  {
   "cell_type": "code",
   "execution_count": 120,
   "metadata": {},
   "outputs": [
    {
     "data": {
      "text/html": [
       "<div>\n",
       "<style scoped>\n",
       "    .dataframe tbody tr th:only-of-type {\n",
       "        vertical-align: middle;\n",
       "    }\n",
       "\n",
       "    .dataframe tbody tr th {\n",
       "        vertical-align: top;\n",
       "    }\n",
       "\n",
       "    .dataframe thead th {\n",
       "        text-align: right;\n",
       "    }\n",
       "</style>\n",
       "<table border=\"1\" class=\"dataframe\">\n",
       "  <thead>\n",
       "    <tr style=\"text-align: right;\">\n",
       "      <th></th>\n",
       "      <th>loss</th>\n",
       "      <th>accuracy</th>\n",
       "      <th>val_loss</th>\n",
       "      <th>val_accuracy</th>\n",
       "    </tr>\n",
       "  </thead>\n",
       "  <tbody>\n",
       "    <tr>\n",
       "      <th>0</th>\n",
       "      <td>0.344543</td>\n",
       "      <td>0.926958</td>\n",
       "      <td>0.276719</td>\n",
       "      <td>0.935650</td>\n",
       "    </tr>\n",
       "    <tr>\n",
       "      <th>1</th>\n",
       "      <td>0.238578</td>\n",
       "      <td>0.937476</td>\n",
       "      <td>0.226880</td>\n",
       "      <td>0.936834</td>\n",
       "    </tr>\n",
       "    <tr>\n",
       "      <th>2</th>\n",
       "      <td>0.178139</td>\n",
       "      <td>0.942540</td>\n",
       "      <td>0.193129</td>\n",
       "      <td>0.939992</td>\n",
       "    </tr>\n",
       "    <tr>\n",
       "      <th>3</th>\n",
       "      <td>0.147223</td>\n",
       "      <td>0.948968</td>\n",
       "      <td>0.182273</td>\n",
       "      <td>0.941571</td>\n",
       "    </tr>\n",
       "    <tr>\n",
       "      <th>4</th>\n",
       "      <td>0.125015</td>\n",
       "      <td>0.956759</td>\n",
       "      <td>0.171674</td>\n",
       "      <td>0.941571</td>\n",
       "    </tr>\n",
       "    <tr>\n",
       "      <th>5</th>\n",
       "      <td>0.106914</td>\n",
       "      <td>0.962407</td>\n",
       "      <td>0.160657</td>\n",
       "      <td>0.945519</td>\n",
       "    </tr>\n",
       "    <tr>\n",
       "      <th>6</th>\n",
       "      <td>0.093885</td>\n",
       "      <td>0.965719</td>\n",
       "      <td>0.153709</td>\n",
       "      <td>0.949072</td>\n",
       "    </tr>\n",
       "    <tr>\n",
       "      <th>7</th>\n",
       "      <td>0.083081</td>\n",
       "      <td>0.969809</td>\n",
       "      <td>0.148022</td>\n",
       "      <td>0.952231</td>\n",
       "    </tr>\n",
       "    <tr>\n",
       "      <th>8</th>\n",
       "      <td>0.073875</td>\n",
       "      <td>0.972147</td>\n",
       "      <td>0.144623</td>\n",
       "      <td>0.952625</td>\n",
       "    </tr>\n",
       "    <tr>\n",
       "      <th>9</th>\n",
       "      <td>0.065758</td>\n",
       "      <td>0.976042</td>\n",
       "      <td>0.141138</td>\n",
       "      <td>0.952625</td>\n",
       "    </tr>\n",
       "    <tr>\n",
       "      <th>10</th>\n",
       "      <td>0.058668</td>\n",
       "      <td>0.980132</td>\n",
       "      <td>0.140005</td>\n",
       "      <td>0.953020</td>\n",
       "    </tr>\n",
       "    <tr>\n",
       "      <th>11</th>\n",
       "      <td>0.052890</td>\n",
       "      <td>0.983249</td>\n",
       "      <td>0.138253</td>\n",
       "      <td>0.953810</td>\n",
       "    </tr>\n",
       "    <tr>\n",
       "      <th>12</th>\n",
       "      <td>0.047506</td>\n",
       "      <td>0.985002</td>\n",
       "      <td>0.136472</td>\n",
       "      <td>0.956968</td>\n",
       "    </tr>\n",
       "    <tr>\n",
       "      <th>13</th>\n",
       "      <td>0.042658</td>\n",
       "      <td>0.986950</td>\n",
       "      <td>0.136310</td>\n",
       "      <td>0.958152</td>\n",
       "    </tr>\n",
       "    <tr>\n",
       "      <th>14</th>\n",
       "      <td>0.038604</td>\n",
       "      <td>0.988508</td>\n",
       "      <td>0.135890</td>\n",
       "      <td>0.957363</td>\n",
       "    </tr>\n",
       "    <tr>\n",
       "      <th>15</th>\n",
       "      <td>0.034837</td>\n",
       "      <td>0.991040</td>\n",
       "      <td>0.136184</td>\n",
       "      <td>0.957363</td>\n",
       "    </tr>\n",
       "    <tr>\n",
       "      <th>16</th>\n",
       "      <td>0.031572</td>\n",
       "      <td>0.992014</td>\n",
       "      <td>0.137242</td>\n",
       "      <td>0.957758</td>\n",
       "    </tr>\n",
       "    <tr>\n",
       "      <th>17</th>\n",
       "      <td>0.028892</td>\n",
       "      <td>0.992793</td>\n",
       "      <td>0.137464</td>\n",
       "      <td>0.957758</td>\n",
       "    </tr>\n",
       "    <tr>\n",
       "      <th>18</th>\n",
       "      <td>0.026099</td>\n",
       "      <td>0.993572</td>\n",
       "      <td>0.138915</td>\n",
       "      <td>0.958547</td>\n",
       "    </tr>\n",
       "    <tr>\n",
       "      <th>19</th>\n",
       "      <td>0.023723</td>\n",
       "      <td>0.994157</td>\n",
       "      <td>0.139713</td>\n",
       "      <td>0.957758</td>\n",
       "    </tr>\n",
       "    <tr>\n",
       "      <th>20</th>\n",
       "      <td>0.021519</td>\n",
       "      <td>0.994936</td>\n",
       "      <td>0.139630</td>\n",
       "      <td>0.957363</td>\n",
       "    </tr>\n",
       "    <tr>\n",
       "      <th>21</th>\n",
       "      <td>0.019731</td>\n",
       "      <td>0.995520</td>\n",
       "      <td>0.140851</td>\n",
       "      <td>0.956573</td>\n",
       "    </tr>\n",
       "    <tr>\n",
       "      <th>22</th>\n",
       "      <td>0.017916</td>\n",
       "      <td>0.996104</td>\n",
       "      <td>0.142494</td>\n",
       "      <td>0.957363</td>\n",
       "    </tr>\n",
       "    <tr>\n",
       "      <th>23</th>\n",
       "      <td>0.016203</td>\n",
       "      <td>0.996689</td>\n",
       "      <td>0.142406</td>\n",
       "      <td>0.958547</td>\n",
       "    </tr>\n",
       "    <tr>\n",
       "      <th>24</th>\n",
       "      <td>0.014652</td>\n",
       "      <td>0.997468</td>\n",
       "      <td>0.143062</td>\n",
       "      <td>0.958152</td>\n",
       "    </tr>\n",
       "  </tbody>\n",
       "</table>\n",
       "</div>"
      ],
      "text/plain": [
       "        loss  accuracy  val_loss  val_accuracy\n",
       "0   0.344543  0.926958  0.276719      0.935650\n",
       "1   0.238578  0.937476  0.226880      0.936834\n",
       "2   0.178139  0.942540  0.193129      0.939992\n",
       "3   0.147223  0.948968  0.182273      0.941571\n",
       "4   0.125015  0.956759  0.171674      0.941571\n",
       "5   0.106914  0.962407  0.160657      0.945519\n",
       "6   0.093885  0.965719  0.153709      0.949072\n",
       "7   0.083081  0.969809  0.148022      0.952231\n",
       "8   0.073875  0.972147  0.144623      0.952625\n",
       "9   0.065758  0.976042  0.141138      0.952625\n",
       "10  0.058668  0.980132  0.140005      0.953020\n",
       "11  0.052890  0.983249  0.138253      0.953810\n",
       "12  0.047506  0.985002  0.136472      0.956968\n",
       "13  0.042658  0.986950  0.136310      0.958152\n",
       "14  0.038604  0.988508  0.135890      0.957363\n",
       "15  0.034837  0.991040  0.136184      0.957363\n",
       "16  0.031572  0.992014  0.137242      0.957758\n",
       "17  0.028892  0.992793  0.137464      0.957758\n",
       "18  0.026099  0.993572  0.138915      0.958547\n",
       "19  0.023723  0.994157  0.139713      0.957758\n",
       "20  0.021519  0.994936  0.139630      0.957363\n",
       "21  0.019731  0.995520  0.140851      0.956573\n",
       "22  0.017916  0.996104  0.142494      0.957363\n",
       "23  0.016203  0.996689  0.142406      0.958547\n",
       "24  0.014652  0.997468  0.143062      0.958152"
      ]
     },
     "execution_count": 120,
     "metadata": {},
     "output_type": "execute_result"
    }
   ],
   "source": [
    "losses"
   ]
  },
  {
   "cell_type": "code",
   "execution_count": 121,
   "metadata": {},
   "outputs": [
    {
     "data": {
      "text/plain": [
       "<AxesSubplot:>"
      ]
     },
     "execution_count": 121,
     "metadata": {},
     "output_type": "execute_result"
    },
    {
     "data": {
      "image/png": "[encoded data removed]",
      "text/plain": [
       "<Figure size 432x288 with 1 Axes>"
      ]
     },
     "metadata": {
      "needs_background": "light"
     },
     "output_type": "display_data"
    }
   ],
   "source": [
    "losses[[\"val_loss\",\"loss\"]].plot() ### Overfitting"
   ]
  },
  {
   "cell_type": "code",
   "execution_count": 145,
   "metadata": {},
   "outputs": [],
   "source": [
    "import tensorflow as tf\n",
    "from tensorflow.keras.layers import LeakyReLU"
   ]
  },
  {
   "cell_type": "code",
   "execution_count": 150,
   "metadata": {},
   "outputs": [],
   "source": [
    "model5 = Sequential()\n",
    "model5.add(Dense(100,kernel_initializer=\"glorot_normal\",kernel_regularizer=tf.keras.regularizers.L1L2(0.01)))\n",
    "model5.add(LeakyReLU(alpha=0.03))\n",
    "model5.add(Dropout(0.4))\n",
    "\n",
    "model5.add(Dense(100,kernel_initializer=\"glorot_normal\",kernel_regularizer=tf.keras.regularizers.L1L2(0.01)))\n",
    "model5.add(LeakyReLU(alpha=0.08))\n",
    "\n",
    "model5.add(Dropout(0.4))\n",
    "\n",
    "\n",
    "model5.add(Dense(17,activation=\"softmax\"))\n",
    " \n",
    "model5.compile(loss=\"binary_crossentropy\",optimizer=\"adam\",metrics=[\"accuracy\"]) #Fifth model"
   ]
  },
  {
   "cell_type": "code",
   "execution_count": 151,
   "metadata": {},
   "outputs": [
    {
     "name": "stdout",
     "output_type": "stream",
     "text": [
      "Train on 302 samples, validate on 149 samples\n",
      "Epoch 1/25\n",
      "302/302 [==============================] - 0s 1ms/sample - loss: 15.9927 - accuracy: 0.9347 - val_loss: 14.9011 - val_accuracy: 0.9388\n",
      "Epoch 2/25\n",
      "302/302 [==============================] - 0s 165us/sample - loss: 14.1640 - accuracy: 0.9357 - val_loss: 13.1604 - val_accuracy: 0.9400\n",
      "Epoch 3/25\n",
      "302/302 [==============================] - 0s 187us/sample - loss: 12.4711 - accuracy: 0.9390 - val_loss: 11.5580 - val_accuracy: 0.9392\n",
      "Epoch 4/25\n",
      "302/302 [==============================] - 0s 192us/sample - loss: 10.9201 - accuracy: 0.9390 - val_loss: 10.0862 - val_accuracy: 0.9396\n",
      "Epoch 5/25\n",
      "302/302 [==============================] - 0s 162us/sample - loss: 9.4998 - accuracy: 0.9388 - val_loss: 8.7456 - val_accuracy: 0.9404\n",
      "Epoch 6/25\n",
      "302/302 [==============================] - 0s 182us/sample - loss: 8.2093 - accuracy: 0.9406 - val_loss: 7.5286 - val_accuracy: 0.9404\n",
      "Epoch 7/25\n",
      "302/302 [==============================] - 0s 168us/sample - loss: 7.0447 - accuracy: 0.9398 - val_loss: 6.4283 - val_accuracy: 0.9404\n",
      "Epoch 8/25\n",
      "302/302 [==============================] - 0s 175us/sample - loss: 5.9957 - accuracy: 0.9402 - val_loss: 5.4401 - val_accuracy: 0.9404\n",
      "Epoch 9/25\n",
      "302/302 [==============================] - 0s 175us/sample - loss: 5.0528 - accuracy: 0.9406 - val_loss: 4.5603 - val_accuracy: 0.9404\n",
      "Epoch 10/25\n",
      "302/302 [==============================] - 0s 162us/sample - loss: 4.2184 - accuracy: 0.9408 - val_loss: 3.7860 - val_accuracy: 0.9404\n",
      "Epoch 11/25\n",
      "302/302 [==============================] - 0s 185us/sample - loss: 3.4875 - accuracy: 0.9412 - val_loss: 3.1059 - val_accuracy: 0.9404\n",
      "Epoch 12/25\n",
      "302/302 [==============================] - 0s 172us/sample - loss: 2.8459 - accuracy: 0.9412 - val_loss: 2.5160 - val_accuracy: 0.9404\n",
      "Epoch 13/25\n",
      "302/302 [==============================] - 0s 175us/sample - loss: 2.2967 - accuracy: 0.9410 - val_loss: 2.0129 - val_accuracy: 0.9404\n",
      "Epoch 14/25\n",
      "302/302 [==============================] - 0s 165us/sample - loss: 1.8262 - accuracy: 0.9412 - val_loss: 1.5862 - val_accuracy: 0.9408\n",
      "Epoch 15/25\n",
      "302/302 [==============================] - 0s 198us/sample - loss: 1.4318 - accuracy: 0.9408 - val_loss: 1.2353 - val_accuracy: 0.9412\n",
      "Epoch 16/25\n",
      "302/302 [==============================] - 0s 172us/sample - loss: 1.1076 - accuracy: 0.9408 - val_loss: 0.9480 - val_accuracy: 0.9412\n",
      "Epoch 17/25\n",
      "302/302 [==============================] - 0s 175us/sample - loss: 0.8442 - accuracy: 0.9406 - val_loss: 0.7180 - val_accuracy: 0.9412\n",
      "Epoch 18/25\n",
      "302/302 [==============================] - 0s 165us/sample - loss: 0.6355 - accuracy: 0.9422 - val_loss: 0.5383 - val_accuracy: 0.9412\n",
      "Epoch 19/25\n",
      "302/302 [==============================] - 0s 172us/sample - loss: 0.4773 - accuracy: 0.9406 - val_loss: 0.4018 - val_accuracy: 0.9412\n",
      "Epoch 20/25\n",
      "302/302 [==============================] - 0s 165us/sample - loss: 0.3548 - accuracy: 0.9437 - val_loss: 0.3039 - val_accuracy: 0.9396\n",
      "Epoch 21/25\n",
      "302/302 [==============================] - 0s 168us/sample - loss: 0.2740 - accuracy: 0.9381 - val_loss: 0.2389 - val_accuracy: 0.9463\n",
      "Epoch 22/25\n",
      "302/302 [==============================] - 0s 159us/sample - loss: 0.2186 - accuracy: 0.9435 - val_loss: 0.2013 - val_accuracy: 0.9463\n",
      "Epoch 23/25\n",
      "302/302 [==============================] - 0s 178us/sample - loss: 0.1918 - accuracy: 0.9437 - val_loss: 0.1867 - val_accuracy: 0.9463\n",
      "Epoch 24/25\n",
      "302/302 [==============================] - 0s 174us/sample - loss: 0.1809 - accuracy: 0.9445 - val_loss: 0.1789 - val_accuracy: 0.9463\n",
      "Epoch 25/25\n",
      "302/302 [==============================] - 0s 172us/sample - loss: 0.1733 - accuracy: 0.9470 - val_loss: 0.1755 - val_accuracy: 0.9463\n"
     ]
    },
    {
     "data": {
      "text/plain": [
       "<tensorflow.python.keras.callbacks.History at 0x27c2008c548>"
      ]
     },
     "execution_count": 151,
     "metadata": {},
     "output_type": "execute_result"
    }
   ],
   "source": [
    "model5.fit(X_train_pca,y_train_cat,validation_data=(X_test_pca,y_test_cat),epochs=25) "
   ]
  },
  {
   "cell_type": "code",
   "execution_count": 152,
   "metadata": {},
   "outputs": [
    {
     "data": {
      "text/plain": [
       "<AxesSubplot:>"
      ]
     },
     "execution_count": 152,
     "metadata": {},
     "output_type": "execute_result"
    },
    {
     "data": {
      "image/png": "[encoded data removed]",
      "text/plain": [
       "<Figure size 432x288 with 1 Axes>"
      ]
     },
     "metadata": {
      "needs_background": "light"
     },
     "output_type": "display_data"
    }
   ],
   "source": [
    "losses = pd.DataFrame(model.history.history)\n",
    "losses[[\"val_accuracy\",\"accuracy\"]].plot() ### Overfitting"
   ]
  },
  {
   "cell_type": "code",
   "execution_count": 153,
   "metadata": {},
   "outputs": [
    {
     "name": "stdout",
     "output_type": "stream",
     "text": [
      "149/149 [==============================] - 0s 100us/sample - loss: 0.1755 - accuracy: 0.9463\n"
     ]
    },
    {
     "data": {
      "text/plain": [
       "[0.17545041971958725, 0.94630873]"
      ]
     },
     "execution_count": 153,
     "metadata": {},
     "output_type": "execute_result"
    }
   ],
   "source": [
    "model5.evaluate(X_test_pca,y_test_cat) "
   ]
  },
  {
   "cell_type": "code",
   "execution_count": null,
   "metadata": {},
   "outputs": [],
   "source": [
    "### 94.63% on test set"
   ]
  }
 ],
 "metadata": {
  "kernelspec": {
   "display_name": "Python 3",
   "language": "python",
   "name": "python3"
  },
  "language_info": {
   "codemirror_mode": {
    "name": "ipython",
    "version": 3
   },
   "file_extension": ".py",
   "mimetype": "text/x-python",
   "name": "python",
   "nbconvert_exporter": "python",
   "pygments_lexer": "ipython3",
   "version": "3.7.6"
  }
 },
 "nbformat": 4,
 "nbformat_minor": 4
}
